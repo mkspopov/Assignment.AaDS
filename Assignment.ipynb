{
 "cells": [
  {
   "cell_type": "markdown",
   "id": "d37bd843",
   "metadata": {},
   "source": [
    "### Collision detection\n",
    "\n",
    "Given `N` rectangles on the plane. Each has a width, a height and coordinates of the bottom left corner. Sides are parallel to the axes Ox and Oy. Each rectangle has a velocity, which is a 2-dimensional vector. \n",
    "\n",
    "Two rectangles may collide. One collision is a pair of rectangles which have a common point. When one of the rectangles is inside another it is a collision too.\n",
    "\n",
    "Every tick each of the rectangles moves along its velocity vector.\n",
    "\n",
    "####  The task\n",
    "\n",
    "Given `T` ticks. On each tick output the number of collisions. Provide unit and stress tests.\n",
    "\n",
    "#### Score\n",
    "\n",
    "Your score depends on the speed of your algorithm. For the values `N` and `T` greater than 1000 it might be tricky to calculate everything in 1 second. `O(Tn^2)` algorithm gives you 4 out of 10.\n",
    "\n",
    "#### Hints\n",
    "\n",
    "1) You can start with `O(Tn^2)` algorithm, which simply checks all pairs of rectangles on every tick, but it does not pass all of the tests. You can verify your fast solution with this naive algorithm on small input.\n",
    "\n",
    "2) Fast solutions might divide the plane in regions, sort the rectangles, even build trees of them. You can try any ideas in your solution.\n",
    "\n",
    "3) There are many books and articles about collision detection, and many of them rely on simple data structures and algorithms such as sorting, trees (graphs without cycles) and so on. Try what you like.\n",
    "\n",
    "4) See examples below.\n",
    "\n",
    "5) Feel free to use or change DrawExample function. It might help you to visualize your ideas."
   ]
  },
  {
   "cell_type": "code",
   "execution_count": 12,
   "id": "d956037b",
   "metadata": {},
   "outputs": [],
   "source": [
    "class Point:\n",
    "    def __init__(self, x, y):\n",
    "        self.point = [x, y]\n",
    "\n",
    "    def __getitem__(self, i):\n",
    "        return self.point[i]\n",
    "    \n",
    "    def x(self):\n",
    "        return self.point[0]\n",
    "    \n",
    "    def y(self):\n",
    "        return self.point[1]\n",
    "\n",
    "class Object:\n",
    "    def __init__(self, velocity):\n",
    "        self.velocity = velocity\n",
    "\n",
    "class Rectangle(Object):\n",
    "    def __init__(self, botLeft, width, height, velocity):\n",
    "        super().__init__(velocity)\n",
    "        self.botLeft = botLeft\n",
    "        self.width = width\n",
    "        self.height = height"
   ]
  },
  {
   "cell_type": "code",
   "execution_count": 13,
   "id": "f6f02557",
   "metadata": {},
   "outputs": [],
   "source": [
    "import matplotlib.pyplot as plt\n",
    "import matplotlib.patches as patches"
   ]
  },
  {
   "cell_type": "code",
   "execution_count": 14,
   "id": "62ec887b",
   "metadata": {},
   "outputs": [],
   "source": [
    "def DrawExample(rectangles):\n",
    "    colors = [\n",
    "        'b',\n",
    "        'r',\n",
    "        'g',\n",
    "    ]\n",
    "    fig, ax = plt.subplots()\n",
    "    ax.plot()\n",
    "    for rect, color in zip(rectangles, colors):\n",
    "        p = patches.Rectangle(rect.botLeft, rect.width, rect.height, edgecolor=color, facecolor='none')\n",
    "        ax.add_patch(p)\n",
    "    return ax"
   ]
  },
  {
   "cell_type": "code",
   "execution_count": 15,
   "id": "5ea64671",
   "metadata": {},
   "outputs": [
    {
     "data": {
      "image/png": "[encoded data removed]",
      "text/plain": [
       "<Figure size 432x288 with 1 Axes>"
      ]
     },
     "metadata": {
      "needs_background": "light"
     },
     "output_type": "display_data"
    }
   ],
   "source": [
    "rectangles = [\n",
    "    Rectangle(Point(1, 1), 2, 3, Point(0, 0)),\n",
    "    Rectangle(Point(0, 1), 3, 1, Point(0.5, 1)),\n",
    "    Rectangle(Point(0.5, 3), 0.3, 0.5, Point(0, 0)),\n",
    "]\n",
    "ax = DrawExample(rectangles)\n",
    "plt.show()"
   ]
  },
  {
   "cell_type": "markdown",
   "id": "4eeb9f05",
   "metadata": {},
   "source": [
    "#### First. Tick == 0\n",
    "\n",
    "Three rectangles on the plane, one collision.\n",
    "\n",
    "#### Next. Tick == 1\n",
    "\n",
    "Red moves along its velocity vector == Point(0.5, 1).\n",
    "\n",
    "Others stand still.\n",
    "\n",
    "Now there are 2 collisions."
   ]
  },
  {
   "cell_type": "code",
   "execution_count": 16,
   "id": "3afa5072",
   "metadata": {},
   "outputs": [],
   "source": [
    "tick = 1"
   ]
  },
  {
   "cell_type": "code",
   "execution_count": 17,
   "id": "c72f2351",
   "metadata": {},
   "outputs": [
    {
     "data": {
      "image/png": "[encoded data removed]",
      "text/plain": [
       "<Figure size 432x288 with 1 Axes>"
      ]
     },
     "metadata": {
      "needs_background": "light"
     },
     "output_type": "display_data"
    },
    {
     "name": "stdout",
     "output_type": "stream",
     "text": [
      "Tick 1\n"
     ]
    }
   ],
   "source": [
    "red = rectangles[1]\n",
    "red.botLeft = Point(red.botLeft.x() + red.velocity.x(), red.botLeft.y() + red.velocity.y())\n",
    "ax = DrawExample(rectangles)\n",
    "ax.add_patch(patches.Rectangle((0.5, 3), 0.3, 0.5, edgecolor='g', facecolor='none'))\n",
    "plt.show()\n",
    "print(\"Tick\", tick)\n",
    "tick += 1"
   ]
  },
  {
   "cell_type": "markdown",
   "id": "af41b83a",
   "metadata": {},
   "source": [
    "You can run the below cell multiple times to see the movement of the red one."
   ]
  },
  {
   "cell_type": "code",
   "execution_count": 21,
   "id": "f5585e1c",
   "metadata": {},
   "outputs": [
    {
     "data": {
      "image/png": "[encoded data removed]",
      "text/plain": [
       "<Figure size 432x288 with 1 Axes>"
      ]
     },
     "metadata": {
      "needs_background": "light"
     },
     "output_type": "display_data"
    },
    {
     "name": "stdout",
     "output_type": "stream",
     "text": [
      "Tick 4\n"
     ]
    }
   ],
   "source": [
    "red = rectangles[1]\n",
    "red.botLeft = Point(red.botLeft.x() + red.velocity.x(), red.botLeft.y() + red.velocity.y())\n",
    "ax = DrawExample(rectangles)\n",
    "ax.add_patch(patches.Rectangle((0.5, 3), 0.3, 0.5, edgecolor='g', facecolor='none'))\n",
    "plt.show()\n",
    "print(\"Tick\", tick)\n",
    "tick += 1"
   ]
  },
  {
   "cell_type": "code",
   "execution_count": 19,
   "id": "e087e3b3",
   "metadata": {},
   "outputs": [],
   "source": [
    "def CountCollisions(rects: [Rectangle], ticks: int):\n",
    "    \"\"\" Implement me! \"\"\""
   ]
  },
  {
   "cell_type": "code",
   "execution_count": null,
   "id": "630c5598",
   "metadata": {},
   "outputs": [],
   "source": []
  }
 ],
 "metadata": {
  "kernelspec": {
   "display_name": "Python 3",
   "language": "python",
   "name": "python3"
  },
  "language_info": {
   "codemirror_mode": {
    "name": "ipython",
    "version": 3
   },
   "file_extension": ".py",
   "mimetype": "text/x-python",
   "name": "python",
   "nbconvert_exporter": "python",
   "pygments_lexer": "ipython3",
   "version": "3.8.10"
  }
 },
 "nbformat": 4,
 "nbformat_minor": 5
}
